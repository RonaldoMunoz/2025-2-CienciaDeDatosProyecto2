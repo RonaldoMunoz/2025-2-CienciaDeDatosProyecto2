{
 "cells": [
  {
   "cell_type": "markdown",
   "id": "3c6be14b",
   "metadata": {},
   "source": [
    "# Modelo Predictivo: Random Forest Regressor\n",
    "\n",
    "En este notebook se entrena un modelo de **Regresión con Random Forest** para predecir el precio promedio del aguacate (`AveragePrice`) en función de diversas características como el tipo, región, volumen de ventas y fecha.\n",
    "\n",
    "El dataset utilizado (`avocado_final_clean.csv`) ya ha sido sometido a un proceso previo de:\n",
    "- Limpieza de valores nulos  \n",
    "- Tratamiento de outliers  \n",
    "- Codificación de variables categóricas  \n",
    "- Estandarización de variables predictoras  \n",
    "\n",
    "---\n"
   ]
  },
  {
   "cell_type": "code",
   "execution_count": null,
   "id": "b253f49c",
   "metadata": {},
   "outputs": [],
   "source": [
    "import pandas as pd\n",
    "from sklearn.model_selection import train_test_split\n",
    "from sklearn.ensemble import RandomForestRegressor\n",
    "from sklearn.metrics import mean_absolute_error, mean_squared_error, r2_score\n",
    "import numpy as np\n",
    "\n",
    "# Cargar el dataset limpio y estandarizado\n",
    "df = pd.read_csv(\"avocado_final_clean.csv\")\n",
    "\n",
    "print(f\"✅ Dataset cargado: {df.shape[0]} filas y {df.shape[1]} columnas\")\n",
    "df.head()\n"
   ]
  },
  {
   "cell_type": "markdown",
   "id": "b7649cf6",
   "metadata": {},
   "source": [
    "## Separación de Variables\n",
    "\n",
    "El modelo debe predecir el **precio promedio del aguacate (`AveragePrice`)**, por lo tanto:\n",
    "\n",
    "- **Variable objetivo (`y`)**: `AveragePrice`\n",
    "- **Variables predictoras (`X`)**: todas las demás columnas del dataset.\n",
    "\n",
    "Se separan ambas para permitir el entrenamiento supervisado del modelo.\n"
   ]
  },
  {
   "cell_type": "code",
   "execution_count": null,
   "id": "288b14be",
   "metadata": {},
   "outputs": [],
   "source": [
    "# Separar variable objetivo y variables predictoras\n",
    "target = \"AveragePrice\"\n",
    "X = df.drop(columns=[target])\n",
    "y = df[target]\n",
    "\n",
    "print(\"Variable objetivo: {target}\")\n",
    "print(\"Variables predictoras: {X.shape[1]}\")\n"
   ]
  },
  {
   "cell_type": "markdown",
   "id": "f06494d2",
   "metadata": {},
   "source": [
    "##  División de Datos: Entrenamiento y Prueba\n",
    "\n",
    "Para evaluar correctamente el desempeño del modelo, se divide el dataset en dos partes:\n",
    "\n",
    "- **Conjunto de Entrenamiento (80%)**: usado para entrenar el modelo.\n",
    "- **Conjunto de Prueba (20%)**: usado para medir qué tan bien generaliza el modelo a datos no vistos.\n",
    "\n",
    "La división se realiza con `train_test_split`, fijando una semilla aleatoria (`random_state=42`) para garantizar reproducibilidad.\n"
   ]
  },
  {
   "cell_type": "code",
   "execution_count": null,
   "id": "bc0ac6ce",
   "metadata": {},
   "outputs": [],
   "source": [
    "X_train, X_test, y_train, y_test = train_test_split(\n",
    "    X, y, test_size=0.2, random_state=42\n",
    ")\n",
    "\n",
    "print(f\"📊 Entrenamiento: {X_train.shape}, Prueba: {X_test.shape}\")\n"
   ]
  },
  {
   "cell_type": "markdown",
   "id": "62ff8859",
   "metadata": {},
   "source": [
    "## Entrenamiento del Modelo: Random Forest Regressor\n",
    "\n",
    "Se emplea el algoritmo **Random Forest**, un método de *ensembles* basado en la combinación de múltiples árboles de decisión.\n",
    "\n",
    "### Parámetros utilizados:\n",
    "- `n_estimators=200` → número de árboles en el bosque.\n",
    "- `max_depth=None` → los árboles crecen sin límite de profundidad.\n",
    "- `random_state=42` → garantiza resultados reproducibles.\n",
    "- `n_jobs=-1` → usa todos los núcleos del procesador para acelerar el entrenamiento.\n"
   ]
  },
  {
   "cell_type": "code",
   "execution_count": null,
   "id": "96b817f6",
   "metadata": {},
   "outputs": [],
   "source": [
    "rf = RandomForestRegressor(\n",
    "    n_estimators=200,\n",
    "    max_depth=None,\n",
    "    random_state=42,\n",
    "    n_jobs=-1\n",
    ")\n",
    "\n",
    "rf.fit(X_train, y_train)\n",
    "print(\"✅ Modelo Random Forest entrenado correctamente.\")\n"
   ]
  },
  {
   "cell_type": "markdown",
   "id": "73902b22",
   "metadata": {},
   "source": [
    "## Evaluación del Desempeño del Modelo\n",
    "\n",
    "Una vez entrenado el modelo, se evalúa utilizando el conjunto de prueba con las siguientes métricas:\n",
    "\n",
    "- **MAE (Mean Absolute Error)** → mide el error promedio absoluto.\n",
    "- **RMSE (Root Mean Squared Error)** → penaliza más los errores grandes.\n",
    "- **R² (Coeficiente de Determinación)** → indica el grado de ajuste (1 = ajuste perfecto).\n",
    "\n",
    "Estas métricas permiten entender la precisión y estabilidad del modelo.\n"
   ]
  },
  {
   "cell_type": "code",
   "execution_count": null,
   "id": "10e80075",
   "metadata": {},
   "outputs": [],
   "source": [
    "# Predicciones sobre el conjunto de prueba\n",
    "y_pred = rf.predict(X_test)\n",
    "\n",
    "# Calcular métricas\n",
    "mae = mean_absolute_error(y_test, y_pred)\n",
    "rmse = np.sqrt(mean_squared_error(y_test, y_pred))\n",
    "r2 = r2_score(y_test, y_pred)\n",
    "\n",
    "print(\"\\n📈 Resultados del modelo:\")\n",
    "print(f\"MAE  (Error Absoluto Medio): {mae:.4f}\")\n",
    "print(f\"RMSE (Raíz del Error Cuadrático Medio): {rmse:.4f}\")\n",
    "print(f\"R²   (Coeficiente de Determinación): {r2:.4f}\")\n"
   ]
  },
  {
   "cell_type": "markdown",
   "id": "a8c3580b",
   "metadata": {},
   "source": [
    "## Análisis de Importancia de Variables\n",
    "\n",
    "El modelo Random Forest permite conocer qué variables influyen más en la predicción.\n",
    "\n",
    "Esto se calcula a partir de la **importancia promedio de las características** en la reducción del error dentro de los árboles.\n",
    "\n",
    "A continuación se muestran las 10 variables más relevantes.\n"
   ]
  },
  {
   "cell_type": "code",
   "execution_count": null,
   "id": "ddb3c4ab",
   "metadata": {},
   "outputs": [],
   "source": [
    "importances = pd.DataFrame({\n",
    "    \"Variable\": X.columns,\n",
    "    \"Importancia\": rf.feature_importances_\n",
    "}).sort_values(by=\"Importancia\", ascending=False)\n",
    "\n",
    "importances.head(10)\n"
   ]
  },
  {
   "cell_type": "markdown",
   "id": "369bc66d",
   "metadata": {},
   "source": [
    "## Visualización de Importancia de Variables\n",
    "\n",
    "Para una mejor interpretación visual, se muestra un gráfico de barras con las 10 variables más influyentes en el precio promedio del aguacate.\n"
   ]
  },
  {
   "cell_type": "code",
   "execution_count": null,
   "id": "e0e2801c",
   "metadata": {},
   "outputs": [],
   "source": [
    "import matplotlib.pyplot as plt\n",
    "\n",
    "top10 = importances.head(10)\n",
    "plt.figure(figsize=(8, 5))\n",
    "plt.barh(top10[\"Variable\"], top10[\"Importancia\"], color='green')\n",
    "plt.gca().invert_yaxis()\n",
    "plt.title(\"🔍 Importancia de las 10 principales variables\")\n",
    "plt.xlabel(\"Importancia\")\n",
    "plt.ylabel(\"Variable\")\n",
    "plt.show()\n"
   ]
  },
  {
   "cell_type": "markdown",
   "id": "b5443023",
   "metadata": {},
   "source": [
    "## Exportar Resultados\n",
    "\n",
    "Por último, se exporta la tabla de importancias de variables a un archivo `.csv` para posibles análisis posteriores o visualizaciones en herramientas externas.\n"
   ]
  },
  {
   "cell_type": "code",
   "execution_count": null,
   "id": "ccce602f",
   "metadata": {},
   "outputs": [],
   "source": [
    "importances.to_csv(\"rf_feature_importance.csv\", index=False)\n",
    "print(\"💾 Archivo exportado: rf_feature_importance.csv\")\n"
   ]
  }
 ],
 "metadata": {
  "kernelspec": {
   "display_name": "venv",
   "language": "python",
   "name": "python3"
  },
  "language_info": {
   "name": "python",
   "version": "3.12.3"
  }
 },
 "nbformat": 4,
 "nbformat_minor": 5
}
