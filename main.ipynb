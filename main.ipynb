{
 "cells": [
  {
   "cell_type": "code",
   "execution_count": null,
   "id": "5060d700",
   "metadata": {},
   "outputs": [],
   "source": [
    "import pandas as pd\n",
    "import matplotlib.pyplot as plt\n",
    "import seaborn as sns\n",
    "\n",
    "pd.set_option('display.max_columns', None)\n",
    "pd.set_option('display.width', 1000)\n",
    "\n",
    "\n",
    "try:\n",
    "\n",
    "    df = pd.read_csv('avocado.csv')\n",
    "\n",
    "    print(\"--- Carga de Datos Exitosa ---\")\n",
    "    \n",
    "\n",
    "    print(\"\\n--- 2.1. Primeras filas (df.head()) ---\")\n",
    "    print(df.head())\n",
    "\n",
    "    \n",
    "    print(\"\\n--- 2.2. Información del DataFrame (df.info()) ---\")\n",
    "    df.info()\n",
    "\n",
    "    # Obtenemos estadísticas descriptivas de las variables numéricas\n",
    "    print(\"\\n--- 2.3. Estadísticas Descriptivas (df.describe()) ---\")\n",
    "    print(df.describe())\n",
    "\n",
    "except FileNotFoundError:\n",
    "    print(\"Error: No se encontró el archivo 'avocado.csv'.\")\n",
    "    print(\"Por favor, asegúrese de que el archivo esté en el mismo directorio que este script.\")\n",
    "\n"
   ]
  }
 ],
 "metadata": {
  "kernelspec": {
   "display_name": "venv",
   "language": "python",
   "name": "python3"
  },
  "language_info": {
   "name": "python",
   "version": "3.12.3"
  }
 },
 "nbformat": 4,
 "nbformat_minor": 5
}
