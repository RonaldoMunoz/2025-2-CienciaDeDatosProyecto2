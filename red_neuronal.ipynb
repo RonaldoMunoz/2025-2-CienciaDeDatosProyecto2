{
 "cells": [
  {
   "cell_type": "markdown",
   "id": "d6d3f6b1",
   "metadata": {},
   "source": [
    "### Modelo de regresion de Red Neuronal para el analisis del precio promedio del aguacate."
   ]
  },
  {
   "cell_type": "code",
   "execution_count": 6,
   "id": "fb00ebcc",
   "metadata": {},
   "outputs": [],
   "source": [
    "import pandas as pd\n",
    "from sklearn.preprocessing import StandardScaler\n",
    "from sklearn.neural_network import MLPRegressor\n",
    "from sklearn.metrics import mean_squared_error, r2_score\n",
    "\n",
    "# --- 1️⃣ Cargar datasets ya limpios y escalados ---\n",
    "train_df = pd.read_csv(\"avocado_train_clean.csv\")\n",
    "test_df = pd.read_csv(\"avocado_test_clean.csv\")"
   ]
  },
  {
   "cell_type": "code",
   "execution_count": 7,
   "id": "29ce71b2",
   "metadata": {},
   "outputs": [
    {
     "name": "stdout",
     "output_type": "stream",
     "text": [
      "✅ Datos cargados correctamente.\n",
      "X_train shape: (14599, 67), X_test shape: (3650, 67)\n"
     ]
    }
   ],
   "source": [
    "# --- 2️⃣ Separar variables predictoras y objetivo ---\n",
    "X_train = train_df.drop(columns=[\"AveragePrice\"])\n",
    "y_train = train_df[\"AveragePrice\"]\n",
    "\n",
    "X_test = test_df.drop(columns=[\"AveragePrice\"])\n",
    "y_test = test_df[\"AveragePrice\"]\n",
    "\n",
    "print(\"✅ Datos cargados correctamente.\")\n",
    "print(f\"X_train shape: {X_train.shape}, X_test shape: {X_test.shape}\")"
   ]
  },
  {
   "cell_type": "code",
   "execution_count": 8,
   "id": "3fed060a",
   "metadata": {},
   "outputs": [
    {
     "name": "stdout",
     "output_type": "stream",
     "text": [
      "Media de X_train (debería estar cerca de 0):\n",
      "Total Volume   -0.0\n",
      "4046            0.0\n",
      "4225            0.0\n",
      "4770           -0.0\n",
      "Total Bags     -0.0\n",
      "dtype: float64\n"
     ]
    }
   ],
   "source": [
    "print(\"Media de X_train (debería estar cerca de 0):\")\n",
    "print(X_train.mean().round(3).head())"
   ]
  },
  {
   "cell_type": "code",
   "execution_count": null,
   "id": "bdcee110",
   "metadata": {},
   "outputs": [],
   "source": [
    "# --- 4️⃣ Entrenar la red neuronal ---\n",
    "mlp = MLPRegressor(\n",
    "    hidden_layer_sizes=(64, 32),  # dos capas ocultas\n",
    "    activation='relu',\n",
    "    solver='adam',\n",
    "    max_iter=1000,\n",
    "    random_state=42\n",
    ")\n",
    "\n",
    "\n",
    "mlp.fit(X_train, y_train)\n",
    "\n"
   ]
  },
  {
   "cell_type": "code",
   "execution_count": null,
   "id": "eaa2f1a1",
   "metadata": {},
   "outputs": [],
   "source": [
    "# --- 5️⃣ Evaluar desempeño ---\n",
    "y_pred = mlp.predict(X_test)\n",
    "\n",
    "mse = mean_squared_error(y_test, y_pred)\n",
    "r2 = r2_score(y_test, y_pred)\n",
    "\n",
    "print(\"\\n📊 Resultados del modelo:\")\n",
    "print(f\"MSE: {mse:.4f}\")\n",
    "print(f\"R²: {r2:.4f}\")"
   ]
  }
 ],
 "metadata": {
  "kernelspec": {
   "display_name": "venv",
   "language": "python",
   "name": "python3"
  },
  "language_info": {
   "codemirror_mode": {
    "name": "ipython",
    "version": 3
   },
   "file_extension": ".py",
   "mimetype": "text/x-python",
   "name": "python",
   "nbconvert_exporter": "python",
   "pygments_lexer": "ipython3",
   "version": "3.12.3"
  }
 },
 "nbformat": 4,
 "nbformat_minor": 5
}
